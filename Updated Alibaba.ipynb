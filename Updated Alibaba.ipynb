{
 "cells": [
  {
   "cell_type": "code",
   "execution_count": 1,
   "metadata": {},
   "outputs": [],
   "source": [
    "from selenium import webdriver\n",
    "from selenium.webdriver.common.keys import Keys\n",
    "import pandas as pd\n",
    "import time\n",
    "from bs4 import BeautifulSoup as soup\n",
    "from urllib.request import urlopen as reg\n",
    "import pickle\n",
    "import pandas as pd\n",
    "driver = webdriver.Chrome(r'C:\\Users\\Arslan Farooq\\Documents\\ChromeDriver\\chromedriver.exe')"
   ]
  },
  {
   "cell_type": "code",
   "execution_count": 2,
   "metadata": {},
   "outputs": [
    {
     "data": {
      "text/html": [
       "<div>\n",
       "<style scoped>\n",
       "    .dataframe tbody tr th:only-of-type {\n",
       "        vertical-align: middle;\n",
       "    }\n",
       "\n",
       "    .dataframe tbody tr th {\n",
       "        vertical-align: top;\n",
       "    }\n",
       "\n",
       "    .dataframe thead th {\n",
       "        text-align: right;\n",
       "    }\n",
       "</style>\n",
       "<table border=\"1\" class=\"dataframe\">\n",
       "  <thead>\n",
       "    <tr style=\"text-align: right;\">\n",
       "      <th></th>\n",
       "      <th>Url</th>\n",
       "    </tr>\n",
       "  </thead>\n",
       "  <tbody>\n",
       "    <tr>\n",
       "      <th>0</th>\n",
       "      <td>http://dgyihao.en.alibaba.com/contactinfo.html</td>\n",
       "    </tr>\n",
       "    <tr>\n",
       "      <th>1</th>\n",
       "      <td>http://lover-beauty.en.alibaba.com/contactinfo...</td>\n",
       "    </tr>\n",
       "    <tr>\n",
       "      <th>2</th>\n",
       "      <td>http://candowclothing.en.alibaba.com/contactin...</td>\n",
       "    </tr>\n",
       "    <tr>\n",
       "      <th>3</th>\n",
       "      <td>http://nixiya.en.alibaba.com/contactinfo.html</td>\n",
       "    </tr>\n",
       "    <tr>\n",
       "      <th>4</th>\n",
       "      <td>http://liule.en.alibaba.com/contactinfo.html</td>\n",
       "    </tr>\n",
       "  </tbody>\n",
       "</table>\n",
       "</div>"
      ],
      "text/plain": [
       "                                                 Url\n",
       "0     http://dgyihao.en.alibaba.com/contactinfo.html\n",
       "1  http://lover-beauty.en.alibaba.com/contactinfo...\n",
       "2  http://candowclothing.en.alibaba.com/contactin...\n",
       "3      http://nixiya.en.alibaba.com/contactinfo.html\n",
       "4       http://liule.en.alibaba.com/contactinfo.html"
      ]
     },
     "execution_count": 2,
     "metadata": {},
     "output_type": "execute_result"
    }
   ],
   "source": [
    "Contacts = pd.read_csv('Companies Contact Links.csv')\n",
    "Contacts.head()"
   ]
  },
  {
   "cell_type": "code",
   "execution_count": 3,
   "metadata": {},
   "outputs": [],
   "source": [
    "def Loading(url):\n",
    "    driver.get(url)\n",
    "    driver.maximize_window()\n",
    "    return driver"
   ]
  },
  {
   "cell_type": "code",
   "execution_count": 4,
   "metadata": {},
   "outputs": [],
   "source": [
    "driver.get(\"http://dgyihao.en.alibaba.com/contactinfo.html\")\n",
    "driver.maximize_window()"
   ]
  },
  {
   "cell_type": "code",
   "execution_count": 5,
   "metadata": {},
   "outputs": [],
   "source": [
    "cookies = driver.get_cookies()\n",
    "pickle.dump( cookies , open(\"cookies.pkl\",\"wb\"))"
   ]
  },
  {
   "cell_type": "code",
   "execution_count": null,
   "metadata": {},
   "outputs": [
    {
     "name": "stdout",
     "output_type": "stream",
     "text": [
      "Index 0\n",
      "Index 1\n",
      "Index 2\n"
     ]
    }
   ],
   "source": [
    "number_of_links = len(Contacts)\n",
    "s = time.time()\n",
    "i = 0\n",
    "DataSet = []\n",
    "while(i<number_of_links):\n",
    "    Data = {}\n",
    "    driver = Loading(Contacts['Url'][i])\n",
    "    cookies = pickle.load(open(\"cookies.pkl\", \"rb\"))\n",
    "    for cookie in cookies:\n",
    "        driver.add_cookie(cookie)\n",
    "        \n",
    "    try:\n",
    "        view_details = driver.find_element_by_link_text(\"View details\")\n",
    "        view_details.click()\n",
    "        \n",
    "        page_soup = soup(driver.page_source,'lxml')\n",
    "        info_table = page_soup.find('table',{'class','info-table'})\n",
    "        trs = info_table.find_all('tr')\n",
    "\n",
    "        try:\n",
    "            Data['Mobile Number'] = trs[1].find('td').text\n",
    "        except:\n",
    "            Data['Mobile Number'] = None\n",
    "        try:\n",
    "            Data['Name'] =  page_soup.find('div',{'class','contact-name'}).text\n",
    "        except:\n",
    "            Data['Name'] = None\n",
    "        try:\n",
    "            Data['Title'] =  page_soup.find('div',{'class','contact-job'}).text\n",
    "        except:\n",
    "            Data['Title'] = None\n",
    "\n",
    "\n",
    "        contact_table = page_soup.find('table',{'class','contact-table'})\n",
    "        trss = contact_table.find_all('tr')                                       \n",
    "        try:\n",
    "            Data['Company Name'] =  trss[0].find('td').text\n",
    "        except:\n",
    "            Data['Company Name'] =None\n",
    "        try:\n",
    "            Data['Gernal Websit'] =  trss[2].find('td').text\n",
    "        except:\n",
    "            Data['Gernal Websit'] =None\n",
    "        try:\n",
    "            Data['Alibaba Website'] = trss[3].find('td').text\n",
    "        except:\n",
    "            Data['Alibaba Website'] =None\n",
    "    except:\n",
    "        None\n",
    "    DataSet.append(Data)\n",
    "    print(\"Index\",i)\n",
    "    i+=1\n",
    "e =time.time()\n",
    "print(e-s)"
   ]
  },
  {
   "cell_type": "code",
   "execution_count": 20,
   "metadata": {},
   "outputs": [
    {
     "data": {
      "text/plain": [
       "[{'Mobile Number': '86-18699992688',\n",
       "  'Name': 'Mr. Liuwu Peng',\n",
       "  'Title': ' sales manager',\n",
       "  'Company Name': 'Dongguan Humen Yihao Clothing Co., Ltd.',\n",
       "  'Gernal Websit': 'http://www.yihaofashion.cn',\n",
       "  'Alibaba Website': 'dgyihao.en.alibaba.com'},\n",
       " {'Mobile Number': '86-18559680861',\n",
       "  'Name': 'Ms. Alice Gong',\n",
       "  'Title': 'Sales Manager',\n",
       "  'Company Name': 'Quanzhou Hexin Fashion Co., Ltd.',\n",
       "  'Gernal Websit': 'http://www.lover-beauty.com',\n",
       "  'Alibaba Website': 'lover-beauty.en.alibaba.com'}]"
      ]
     },
     "execution_count": 20,
     "metadata": {},
     "output_type": "execute_result"
    }
   ],
   "source": [
    "df = pd.DataFrame(DataSet)\n",
    "df.head()\n",
    "#df.to_csv('Companies Contact and info1.csv',index=False)"
   ]
  },
  {
   "cell_type": "code",
   "execution_count": null,
   "metadata": {},
   "outputs": [],
   "source": [
    "len(df)"
   ]
  },
  {
   "cell_type": "code",
   "execution_count": 18,
   "metadata": {},
   "outputs": [
    {
     "ename": "NameError",
     "evalue": "name 'table' is not defined",
     "output_type": "error",
     "traceback": [
      "\u001b[1;31m---------------------------------------------------------------------------\u001b[0m",
      "\u001b[1;31mNameError\u001b[0m                                 Traceback (most recent call last)",
      "\u001b[1;32m<ipython-input-18-cd19b66fb2b6>\u001b[0m in \u001b[0;36m<module>\u001b[1;34m\u001b[0m\n\u001b[0;32m      1\u001b[0m \u001b[0minfo_table\u001b[0m \u001b[1;33m=\u001b[0m \u001b[0mpage_soup\u001b[0m\u001b[1;33m.\u001b[0m\u001b[0mfind\u001b[0m\u001b[1;33m(\u001b[0m\u001b[1;34m'table'\u001b[0m\u001b[1;33m,\u001b[0m\u001b[1;33m{\u001b[0m\u001b[1;34m'class'\u001b[0m\u001b[1;33m,\u001b[0m\u001b[1;34m'info-table'\u001b[0m\u001b[1;33m}\u001b[0m\u001b[1;33m)\u001b[0m\u001b[1;33m\u001b[0m\u001b[1;33m\u001b[0m\u001b[0m\n\u001b[1;32m----> 2\u001b[1;33m \u001b[0mtrs\u001b[0m \u001b[1;33m=\u001b[0m \u001b[0mtable\u001b[0m\u001b[1;33m.\u001b[0m\u001b[0mfind_all\u001b[0m\u001b[1;33m(\u001b[0m\u001b[1;34m'tr'\u001b[0m\u001b[1;33m)\u001b[0m\u001b[1;33m\u001b[0m\u001b[1;33m\u001b[0m\u001b[0m\n\u001b[0m\u001b[0;32m      3\u001b[0m \u001b[0mtrs\u001b[0m\u001b[1;33m[\u001b[0m\u001b[1;36m1\u001b[0m\u001b[1;33m]\u001b[0m\u001b[1;33m.\u001b[0m\u001b[0mfind\u001b[0m\u001b[1;33m(\u001b[0m\u001b[1;34m'td'\u001b[0m\u001b[1;33m)\u001b[0m\u001b[1;33m.\u001b[0m\u001b[0mtext\u001b[0m\u001b[1;33m\u001b[0m\u001b[1;33m\u001b[0m\u001b[0m\n",
      "\u001b[1;31mNameError\u001b[0m: name 'table' is not defined"
     ]
    }
   ],
   "source": [
    "info_table = page_soup.find('table',{'class','info-table'})\n",
    "trs = info_table.find_all('tr')\n",
    "trs[1].find('td').text"
   ]
  },
  {
   "cell_type": "code",
   "execution_count": null,
   "metadata": {},
   "outputs": [],
   "source": []
  }
 ],
 "metadata": {
  "kernelspec": {
   "display_name": "Python 3",
   "language": "python",
   "name": "python3"
  },
  "language_info": {
   "codemirror_mode": {
    "name": "ipython",
    "version": 3
   },
   "file_extension": ".py",
   "mimetype": "text/x-python",
   "name": "python",
   "nbconvert_exporter": "python",
   "pygments_lexer": "ipython3",
   "version": "3.7.1"
  }
 },
 "nbformat": 4,
 "nbformat_minor": 2
}
