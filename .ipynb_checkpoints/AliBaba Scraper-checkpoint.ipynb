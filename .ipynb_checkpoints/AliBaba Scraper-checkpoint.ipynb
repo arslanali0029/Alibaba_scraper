{
 "cells": [
  {
   "cell_type": "code",
   "execution_count": null,
   "metadata": {},
   "outputs": [],
   "source": [
    "from selenium import webdriver\n",
    "from selenium.webdriver.common.keys import Keys\n",
    "import pandas as pd\n",
    "import time\n",
    "from bs4 import BeautifulSoup as soup\n",
    "from urllib.request import urlopen as reg\n",
    "import pickle\n",
    "import pandas as pd"
   ]
  },
  {
   "cell_type": "code",
   "execution_count": null,
   "metadata": {},
   "outputs": [],
   "source": [
    "https://www.alibaba.com/trade/search?spm=a2700.supplier-normal.16.4.3221534b7b4eyb&page=1&indexArea=company_en&n=38&keyword=women_dresses&f1=y&viewType=L&ta=y"
   ]
  },
  {
   "cell_type": "code",
   "execution_count": null,
   "metadata": {},
   "outputs": [],
   "source": [
    "start = time.time()\n",
    "\n",
    "main_url0 = 'https://www.alibaba.com/trade/search?spm=a2700.supplier-normal.16.4.3221534b7b4eyb&page='\n",
    "main_url1 = '&indexArea=company_en&n=38&keyword=women_dresses&f1=y&viewType=L&ta=y'\n",
    "DataSet = []\n",
    "j = 1\n",
    "while(j<=52):\n",
    "    \n",
    "    uClient = reg(main_url0+str(j)+main_url1)\n",
    "    html_page = uClient.read()\n",
    "    uClient.close()\n",
    "    \n",
    "    page_soup = soup(html_page,\"lxml\")\n",
    "    containers = page_soup.findAll(\"div\" , {\"class\",\"company\"})\n",
    "    companies = len(containers)\n",
    "    \n",
    "    k = 0\n",
    "    while(k<companies):\n",
    "        Data = {}\n",
    "        Data['Url'] = containers[k].find('a',{'class','cd'}).get('href')\n",
    "        DataSet.append(Data)\n",
    "\n",
    "        k+=1\n",
    "    j+=1\n",
    "end = time.time()\n",
    "print(end - start)"
   ]
  },
  {
   "cell_type": "code",
   "execution_count": null,
   "metadata": {},
   "outputs": [],
   "source": [
    "len(DataSet)"
   ]
  },
  {
   "cell_type": "code",
   "execution_count": null,
   "metadata": {},
   "outputs": [],
   "source": [
    "df = pd.DataFrame(DataSet)\n",
    "df.to_csv('Companies Contact URL.csv',index=False)\n",
    "Contacts = pd.read_csv('Companies Contact URL.csv')\n",
    "Contacts.head()"
   ]
  },
  {
   "cell_type": "code",
   "execution_count": null,
   "metadata": {},
   "outputs": [],
   "source": [
    "driver = webdriver.Chrome(r'C:\\Users\\Arslan Farooq\\Documents\\ChromeDriver\\chromedriver.exe')\n",
    "driver.get(\"http://dgyihao.en.alibaba.com/contactinfo.html\")\n",
    "driver.maximize_window()"
   ]
  },
  {
   "cell_type": "code",
   "execution_count": null,
   "metadata": {},
   "outputs": [],
   "source": [
    "cookies = driver.get_cookies()\n",
    "pickle.dump( cookies , open(\"cookies.pkl\",\"wb\"))"
   ]
  },
  {
   "cell_type": "code",
   "execution_count": null,
   "metadata": {},
   "outputs": [],
   "source": [
    "def Loading(url):\n",
    "    driver.get(url)\n",
    "    driver.maximize_window()\n",
    "    return driver\n",
    "Companies_Data = []"
   ]
  },
  {
   "cell_type": "code",
   "execution_count": null,
   "metadata": {},
   "outputs": [],
   "source": [
    "https://xiante.en.alibaba.com/contactinfo.html\n",
    "https://kimiko.en.alibaba.com/contactinfo.html\n",
    "https://miaozixin.en.alibaba.com/contactinfo.html"
   ]
  },
  {
   "cell_type": "code",
   "execution_count": null,
   "metadata": {},
   "outputs": [],
   "source": [
    "number_of_links = len(Contacts)\n",
    "s = time.time()\n",
    "i = 0\n",
    "while(i<1000):\n",
    "    Data = {}\n",
    "    driver = Loading(Contacts['Url'][i])\n",
    "    \n",
    "    #Upload Cookies\n",
    "    cookies = pickle.load(open(\"cookies.pkl\", \"rb\"))\n",
    "    for cookie in cookies:\n",
    "        driver.add_cookie(cookie)\n",
    "    \n",
    "    #Find View Details Button if view details button then goto try part otherwise into except part\n",
    "    try:\n",
    "        view_details = driver.find_element_by_link_text(\"View details\")\n",
    "        view_details.click()\n",
    "        \n",
    "        # Convert page into soup\n",
    "        page_soup = soup(driver.page_source,'lxml')\n",
    "        \n",
    "        # Find the info-table \n",
    "        try:\n",
    "            info_table = page_soup.find('table',{'class','info-table'})\n",
    "            trs = info_table.find_all('tr')\n",
    "            \n",
    "            # check if the trs are equal to or greater than 7\n",
    "            if(len(trs)>=7):\n",
    "                try:\n",
    "                    Data['Mobile Number'] = trs[1].find('td').text\n",
    "                except:\n",
    "                    Data['Mobile Number'] = None\n",
    "                #end try-except\n",
    "            else:\n",
    "                Data['Mobile Number'] = None\n",
    "            #end if-else\n",
    "            try:\n",
    "                Data['Name'] =  page_soup.find('div',{'class','contact-name'}).text\n",
    "            except:\n",
    "                Data['Name'] = None\n",
    "                #end try-except\n",
    "            try:\n",
    "                Data['Title'] =  page_soup.find('div',{'class','contact-job'}).text\n",
    "            except:\n",
    "                Data['Title'] = None\n",
    "                #end try-except   \n",
    "            try:\n",
    "                contact_table = page_soup.find('table',{'class','contact-table'})\n",
    "                trss = contact_table.find_all('tr') \n",
    "                \n",
    "                if(len(trss)>3):\n",
    "                    try:\n",
    "                        Data['Company Name'] =  trss[0].find('td').text\n",
    "                    except:\n",
    "                        Data['Company Name'] =None\n",
    "                    try:\n",
    "                        Data['Gernal Websit'] =  trss[2].find('td').text\n",
    "                    except:\n",
    "                        Data['Gernal Websit'] =None\n",
    "                    try:\n",
    "                        Data['Alibaba Website'] = trss[3].find('td').text\n",
    "                    except:\n",
    "                        Data['Alibaba Website'] =None\n",
    "                else:\n",
    "                    try:\n",
    "                        Data['Company Name'] =  trss[0].find('td').text\n",
    "                    except:\n",
    "                        Data['Company Name'] =None\n",
    "                    try:\n",
    "                        Data['Alibaba Website'] = trss[2].find('td').text\n",
    "                        Data['Gernal Websit'] =None\n",
    "                    except:\n",
    "                        Data['Alibaba Website'] =None\n",
    "            except:\n",
    "                Data['Company Name'] =None\n",
    "                Data['Gernal Websit'] =None\n",
    "                Data['Alibaba Website'] =None\n",
    "                print(\"Company Contact Information Not Found\")\n",
    "            \n",
    "        except:\n",
    "            \n",
    "            try:\n",
    "                div = page_soup.find('div',{'class','contact-detail'})\n",
    "                dd = div.find_all('dd')\n",
    "                Data[\"Mobile Number\"] = dd[1].text\n",
    "            except:\n",
    "                Data['Mobile Number'] = None\n",
    "            try:\n",
    "                name = page_soup.find('h1',{'class','name'}).text\n",
    "                Data['Name'] = name.replace('\\t','').replace('\\n','')\n",
    "            except:\n",
    "                Data['Name'] = None\n",
    "            try:\n",
    "                Info = page_soup.find('dl',{'class','dl-horizontal'}).text\n",
    "                title = Info.replace('\\n', '')\n",
    "                t = title.split(':')\n",
    "                Data['Title'] =  t[2]\n",
    "            except:\n",
    "                Data['Title'] = None\n",
    "            \n",
    "            try:\n",
    "                contact_table = page_soup.find('table',{'class','company-info-data table'})\n",
    "                trss = contact_table.find('tbody')  \n",
    "                \n",
    "                if(len(trss)>3):\n",
    "                    try:\n",
    "                        Data['Company Name'] =  trss.find_all('td')[1].text\n",
    "                    except:\n",
    "                        Data['Company Name'] =None\n",
    "                    try:\n",
    "                        Data['Gernal Websit'] =  trss.find_all('td')[5].text.replace('\\t','').replace('\\n','')\n",
    "                    except:\n",
    "                        Data['Gernal Websit'] =None\n",
    "                    try:\n",
    "                        Data['Alibaba Website'] = trss.find_all('td')[7].text\n",
    "                    except:\n",
    "                        Data['Alibaba Website'] =None\n",
    "                else:\n",
    "                    try:\n",
    "                        Data['Company Name'] =  trss.find_all('td')[1].text\n",
    "                    except:\n",
    "                        Data['Company Name'] =None\n",
    "                    try:\n",
    "                        Data['Alibaba Website'] = trss.find_all('td')[7].text\n",
    "                        Data['Gernal Websit'] =None\n",
    "                    except:\n",
    "                        Data['Alibaba Website'] =None\n",
    "            except:\n",
    "                Data['Company Name'] =None\n",
    "                Data['Gernal Websit'] =None\n",
    "                Data['Alibaba Website'] =None\n",
    "                print(\" Not Found Company Contact Information\")                \n",
    "    except:\n",
    "                \n",
    "        # Convert page into soup\n",
    "        page_soup = soup(driver.page_source,'lxml')\n",
    "        Data['Mobile Number'] = None\n",
    "\n",
    "        try:\n",
    "            Info = page_soup.find('dl',{'class','dl-horizontal'}).text\n",
    "            title = Info.replace('\\n', '')\n",
    "            t = title.split(':')\n",
    "            Data['Title'] =  t[2]\n",
    "        except:\n",
    "            Data['Title'] = None\n",
    "            \n",
    "        try:\n",
    "            contact_table = page_soup.find('table',{'class','contact-table'})\n",
    "            trss = contact_table.find_all('tr') \n",
    "            if(len(trss)>3):\n",
    "                try:\n",
    "                    Data['Company Name'] =  trss[0].find('td').text\n",
    "                except:\n",
    "                    Data['Company Name'] =None\n",
    "                try:\n",
    "                    Data['Gernal Websit'] =  trss[2].find('td').text\n",
    "                except:\n",
    "                    Data['Gernal Websit'] =None\n",
    "                try:\n",
    "                    Data['Alibaba Website'] = trss[3].find('td').text\n",
    "                except:\n",
    "                    Data['Alibaba Website'] =None\n",
    "            else:\n",
    "                try:\n",
    "                    Data['Company Name'] =  trss[0].find('td').text\n",
    "                except:\n",
    "                    Data['Company Name'] =None\n",
    "                try:\n",
    "                    Data['Alibaba Website'] = trss[2].find('td').text\n",
    "                    Data['Gernal Websit'] =None\n",
    "                except:\n",
    "                    Data['Alibaba Website'] =None\n",
    "        except:\n",
    "            Data['Company Name'] =None\n",
    "            Data['Gernal Websit'] =None\n",
    "            Data['Alibaba Website'] =None\n",
    "            print(\"Company Contact Information Not Found without view details\")\n",
    "    \n",
    "    Companies_Data.append(Data)\n",
    "    print('Index', i)\n",
    "    i+=1"
   ]
  },
  {
   "cell_type": "code",
   "execution_count": null,
   "metadata": {},
   "outputs": [],
   "source": [
    "len(Companies_Data)"
   ]
  },
  {
   "cell_type": "code",
   "execution_count": null,
   "metadata": {},
   "outputs": [],
   "source": [
    "df = pd.DataFrame(Companies_Data)\n",
    "df.head(20)"
   ]
  },
  {
   "cell_type": "code",
   "execution_count": null,
   "metadata": {},
   "outputs": [],
   "source": [
    "df.isnull().sum()"
   ]
  },
  {
   "cell_type": "code",
   "execution_count": null,
   "metadata": {},
   "outputs": [],
   "source": [
    "len(df['Mobile Number'][13])"
   ]
  },
  {
   "cell_type": "code",
   "execution_count": null,
   "metadata": {},
   "outputs": [],
   "source": []
  },
  {
   "cell_type": "code",
   "execution_count": null,
   "metadata": {},
   "outputs": [],
   "source": [
    "j=0\n",
    "while(j<len(df['Mobile Number'])):\n",
    "    if(df['Mobile Number'][j]!=None):\n",
    "        l = len(df['Mobile Number'][j]) \n",
    "        if(l==14):\n",
    "            df['Mobile Number'][j] = df['Mobile Number'][j][3:]\n",
    "        elif(l==13):\n",
    "            df['Mobile Number'][j] = df['Mobile Number'][j][2:]\n",
    "        elif(l==15):\n",
    "            df['Mobile Number'][j] = df['Mobile Number'][j][4:]\n",
    "        elif(l==16):\n",
    "            df['Mobile Number'][j] = df['Mobile Number'][j][4:]\n",
    "    j+=1\n",
    "df.head(20)"
   ]
  },
  {
   "cell_type": "code",
   "execution_count": null,
   "metadata": {},
   "outputs": [],
   "source": [
    "j=0\n",
    "while(j<len(df['Mobile Number'])):\n",
    "    if(df['Mobile Number'][j]!=None):\n",
    "        l = len(df['Mobile Number'][j]) \n",
    "        if(l==14):\n",
    "            df['Mobile Number'][j] = df['Mobile Number'][j][3:]\n",
    "        elif(l==13):\n",
    "            df['Mobile Number'][j] = df['Mobile Number'][j][2:]\n",
    "    j+=1\n",
    "df.head()"
   ]
  },
  {
   "cell_type": "code",
   "execution_count": null,
   "metadata": {},
   "outputs": [],
   "source": [
    "733\n",
    "\n",
    "Index 540\n",
    "Company Contact Information Not Found without view details\n",
    "Index 541\n",
    "\n",
    "Index 1800\n",
    "Company Contact Information Not Found without view details\n",
    "Index 1801\n",
    "\n",
    "847\n",
    "\n",
    "1252"
   ]
  },
  {
   "cell_type": "code",
   "execution_count": null,
   "metadata": {},
   "outputs": [],
   "source": []
  },
  {
   "cell_type": "code",
   "execution_count": null,
   "metadata": {},
   "outputs": [],
   "source": [
    "df.to_csv(\"Companies_Info.csv\")"
   ]
  },
  {
   "cell_type": "code",
   "execution_count": null,
   "metadata": {},
   "outputs": [],
   "source": [
    "print(len(df['Mobile Number'][0]))\n",
    "print(df['Mobile Number'][0])\n",
    "\n",
    "print(len(df['Mobile Number'][4]))\n",
    "print(df['Mobile Number'][4])\n"
   ]
  },
  {
   "cell_type": "code",
   "execution_count": null,
   "metadata": {},
   "outputs": [],
   "source": [
    "if(df['Mobile Number'][1]!=None):\n",
    "    a = len(df['Mobile Number'][1])\n",
    "    a\n",
    "else:\n",
    "    print('good')"
   ]
  },
  {
   "cell_type": "code",
   "execution_count": null,
   "metadata": {},
   "outputs": [],
   "source": [
    "j=0\n",
    "while(j<len(df['Mobile Number'])):\n",
    "    if(df['Mobile Number'][j]!=None):\n",
    "        l = len(df['Mobile Number'][j]) \n",
    "        if(l==14):\n",
    "            df['Mobile Number'][j] = df['Mobile Number'][j][3:]\n",
    "        elif(l==13):\n",
    "            df['Mobile Number'][j] = df['Mobile Number'][j][2:]\n",
    "    j+=1"
   ]
  },
  {
   "cell_type": "code",
   "execution_count": null,
   "metadata": {},
   "outputs": [],
   "source": [
    "df"
   ]
  },
  {
   "cell_type": "code",
   "execution_count": null,
   "metadata": {},
   "outputs": [],
   "source": [
    "df['Mobile Number'][2]"
   ]
  },
  {
   "cell_type": "code",
   "execution_count": null,
   "metadata": {},
   "outputs": [],
   "source": [
    "df['Mobile Number'][2][3:]"
   ]
  },
  {
   "cell_type": "code",
   "execution_count": null,
   "metadata": {},
   "outputs": [],
   "source": [
    "df['Mobile Number'][10]"
   ]
  },
  {
   "cell_type": "code",
   "execution_count": null,
   "metadata": {},
   "outputs": [],
   "source": [
    "len(df['Mobile Number'][10])"
   ]
  },
  {
   "cell_type": "code",
   "execution_count": null,
   "metadata": {},
   "outputs": [],
   "source": [
    "df['Mobile Number'][10][2:]"
   ]
  },
  {
   "cell_type": "code",
   "execution_count": null,
   "metadata": {},
   "outputs": [],
   "source": []
  }
 ],
 "metadata": {
  "kernelspec": {
   "display_name": "Python 3",
   "language": "python",
   "name": "python3"
  },
  "language_info": {
   "codemirror_mode": {
    "name": "ipython",
    "version": 3
   },
   "file_extension": ".py",
   "mimetype": "text/x-python",
   "name": "python",
   "nbconvert_exporter": "python",
   "pygments_lexer": "ipython3",
   "version": "3.7.1"
  }
 },
 "nbformat": 4,
 "nbformat_minor": 2
}
